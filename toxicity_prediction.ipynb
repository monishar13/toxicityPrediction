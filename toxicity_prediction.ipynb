{
 "cells": [
  {
   "cell_type": "code",
   "execution_count": 39,
   "id": "76c8ee05",
   "metadata": {},
   "outputs": [],
   "source": [
    "import pandas as pd\n",
    "import numpy as np\n",
    "import matplotlib.pyplot as plt "
   ]
  },
  {
   "cell_type": "code",
   "execution_count": 40,
   "id": "db2aa5c8",
   "metadata": {},
   "outputs": [],
   "source": [
    "train = pd.read_csv(\"./train_II.csv\")\n",
    "test = pd.read_csv(\"./test_II.csv\")"
   ]
  },
  {
   "cell_type": "code",
   "execution_count": 29,
   "id": "c15caeef",
   "metadata": {},
   "outputs": [
    {
     "name": "stdout",
     "output_type": "stream",
     "text": [
      "                                                      Id  Expected\n",
      "0        C1=CC(=CC=C1C(C2=CC=C(C=C2)O)C(Cl)(Cl)Cl)O;1644         2\n",
      "1                                    CCCCCCCCC(=O)C;2451         2\n",
      "2              CCCCCCCCCC[N+](C)(C)CCCCCCCCCC.[Cl-];1384         2\n",
      "3           C1CN(C(=N1)N[N+](=O)[O-])CC2=CN=C(C=C2)Cl;16         2\n",
      "4                                        [Na+].[I-];1856         2\n",
      "...                                                  ...       ...\n",
      "75378                 COC(=O)NS(=O)(=O)C1=CC=C(C=C1)N;33         2\n",
      "75379            CCOP(=S)(OCC)OC1=NN(C(=N1)Cl)C(C)C;1632         1\n",
      "75380                        C1=CC=C2C(=C1)NC(=S)S2;1373         1\n",
      "75381                                     CCCCC(CC)C=O;2         2\n",
      "75382  CC(C)(C)C1=CC(=CC(=C1O)C(C)(C)C)CCC(=O)NCCCCCC...         1\n",
      "\n",
      "[75383 rows x 2 columns]\n",
      "                                                       x\n",
      "0                         CC1=CC(=C(C=C1)C(C)(C)C)O;1682\n",
      "1      CCS(=O)(=O)C1=C(N=CC=C1)S(=O)(=O)NC(=O)NC2=NC(...\n",
      "2      CC1=NC2=CC=CC=C2N1C3CC4CCC(C3)N4CCC5(CCN(CC5)C...\n",
      "3                    CC1=CC(=O)[N-]S(=O)(=O)O1.[K+];1850\n",
      "4      CCC(C)(C)C(=O)O[C@H]1C[C@H](C=C2[C@H]1[C@H]([C...\n",
      "...                                                  ...\n",
      "10989  CC(=NOCC1=CC=CC=C1C(=NOC)C(=O)OC)C2=CC(=CC=C2)...\n",
      "10990  C1=CC=C(C(=C1)C(C2=CC=C(C=C2)O)C3=CC=C(C=C3)O)...\n",
      "10991  CC1=NC(=NC(=N1)OC)NC(=O)NS(=O)(=O)C2=CC=CC=C2C...\n",
      "10992                           COP(=O)(OC)OC=C(Cl)Cl;28\n",
      "10993                        C1=CC=C2C(=C1)C(=O)NS2;1855\n",
      "\n",
      "[10994 rows x 1 columns]\n"
     ]
    }
   ],
   "source": []
  },
  {
   "cell_type": "code",
   "execution_count": 45,
   "id": "3d83cb82",
   "metadata": {},
   "outputs": [],
   "source": [
    "def clean_data(data,id_val):\n",
    "    carbon_values = []\n",
    "    flourine_values = []\n",
    "    oxygen_values = []\n",
    "    special_char_values = []\n",
    "    id_values = []\n",
    "    for i in data[id_val]:\n",
    "        carbon = 0\n",
    "        flourine = 0\n",
    "        oxygen = 0\n",
    "        specialchar = 0\n",
    "        element = 0\n",
    "        split_semi = i.split(\";\")\n",
    "        id_values.append(int(split_semi[-1]))\n",
    "        compound_split = [*split_semi[0]]\n",
    "        for i in compound_split:\n",
    "            if i == \"C\":\n",
    "                carbon = carbon+1;\n",
    "            elif i == \"F\":\n",
    "                flourine = flourine+1;\n",
    "                \n",
    "            elif i == \"O\":\n",
    "                oxygen = oxygen+1;\n",
    "                \n",
    "            else:\n",
    "                specialchar = specialchar+1;\n",
    "        carbon_values.append(carbon);\n",
    "        flourine_values.append(flourine)\n",
    "        oxygen_values.append(oxygen)\n",
    "        special_char_values.append(specialchar)\n",
    "    data_frame = {\n",
    "        \"carbon\":carbon_values,\n",
    "        \"flourine\": flourine_values,\n",
    "        \"oxygen\": oxygen_values,\n",
    "        \"specialchar\": special_char_values,\n",
    "        \"ID_vals\":id_values\n",
    "    } \n",
    "    data_frame = pd.DataFrame(data_frame)\n",
    "    return data_frame"
   ]
  },
  {
   "cell_type": "code",
   "execution_count": 46,
   "id": "2b3d4754",
   "metadata": {},
   "outputs": [],
   "source": [
    "train_data = clean_data(train,\"Id\")\n",
    "train_data[\"Expected\"] = train[\"Expected\"]"
   ]
  },
  {
   "cell_type": "code",
   "execution_count": 47,
   "id": "26f13f64",
   "metadata": {},
   "outputs": [],
   "source": [
    "test_data = clean_data(test,\"x\")"
   ]
  },
  {
   "cell_type": "code",
   "execution_count": 48,
   "id": "46ff91ce",
   "metadata": {},
   "outputs": [],
   "source": [
    "#from sklearn.ensemble import GradientBoostingClassifier\n",
    "from sklearn.ensemble import RandomForestClassifier\n",
    "model = RandomForestClassifier()\n",
    "X = train_data.drop(\"Expected\",axis=1)\n",
    "y = train_data[\"Expected\"]"
   ]
  },
  {
   "cell_type": "code",
   "execution_count": 49,
   "id": "3831e6fa",
   "metadata": {},
   "outputs": [
    {
     "data": {
      "text/plain": [
       "RandomForestClassifier()"
      ]
     },
     "execution_count": 49,
     "metadata": {},
     "output_type": "execute_result"
    }
   ],
   "source": [
    "model.fit(X,y)"
   ]
  },
  {
   "cell_type": "code",
   "execution_count": 51,
   "id": "0ad8450c",
   "metadata": {},
   "outputs": [],
   "source": [
    "predict = model.predict(test_data)\n",
    "ID_s = test.x.to_list()\n",
    "submission_file = {\n",
    "    \"Id\":ID_s,\n",
    "    \"Predicted\":predict\n",
    "}\n",
    "Submission_file = pd.DataFrame(submission_file)\n",
    "Submission_file.to_csv(\"Submission_file_2.csv\",index=False)"
   ]
  },
  {
   "cell_type": "code",
   "execution_count": null,
   "id": "0c4e7c0e",
   "metadata": {},
   "outputs": [],
   "source": []
  }
 ],
 "metadata": {
  "kernelspec": {
   "display_name": "Python 3 (ipykernel)",
   "language": "python",
   "name": "python3"
  },
  "language_info": {
   "codemirror_mode": {
    "name": "ipython",
    "version": 3
   },
   "file_extension": ".py",
   "mimetype": "text/x-python",
   "name": "python",
   "nbconvert_exporter": "python",
   "pygments_lexer": "ipython3",
   "version": "3.9.13"
  }
 },
 "nbformat": 4,
 "nbformat_minor": 5
}
